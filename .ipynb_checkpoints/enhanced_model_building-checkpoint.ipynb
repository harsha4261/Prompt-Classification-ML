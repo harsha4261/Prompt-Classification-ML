{
 "cells": [
  {
   "cell_type": "code",
   "execution_count": null,
   "id": "8ce51641",
   "metadata": {},
   "outputs": [],
   "source": [
    "# 1. Importing necessary libraries\n",
    "import pandas as pd\n",
    "import numpy as np\n",
    "import seaborn as sns\n",
    "from sklearn.model_selection import train_test_split, GridSearchCV, StratifiedKFold, cross_val_score\n",
    "from sklearn.feature_extraction.text import TfidfVectorizer\n",
    "from sklearn.linear_model import LogisticRegression\n",
    "from sklearn.svm import SVC\n",
    "from sklearn.naive_bayes import MultinomialNB\n",
    "from sklearn.ensemble import RandomForestClassifier\n",
    "from sklearn.metrics import accuracy_score, f1_score, confusion_matrix\n",
    "from sklearn.preprocessing import LabelEncoder\n",
    "from xgboost import XGBClassifier\n",
    "import nltk\n",
    "from nltk.corpus import stopwords\n",
    "from nltk.stem import WordNetLemmatizer\n",
    "import string\n",
    "import joblib"
   ]
  },
  {
   "cell_type": "code",
   "execution_count": null,
   "id": "8e3d80b2",
   "metadata": {},
   "outputs": [],
   "source": [
    "# nltk.download(\"punkt\")\n",
    "# nltk.download(\"stopwords\")\n",
    "# nltk.download(\"wordnet\")"
   ]
  },
  {
   "cell_type": "code",
   "execution_count": null,
   "id": "6c7713cc",
   "metadata": {},
   "outputs": [],
   "source": [
    "# 2. Load data\n",
    "df = pd.read_csv(\"expanded_prompts.csv\")"
   ]
  },
  {
   "cell_type": "code",
   "execution_count": null,
   "id": "90824f59",
   "metadata": {},
   "outputs": [],
   "source": [
    "# 3. Preprocessing\n",
    "lemmatizer = WordNetLemmatizer()\n",
    "stop_words = set(stopwords.words(\"english\"))"
   ]
  },
  {
   "cell_type": "code",
   "execution_count": null,
   "id": "9f873c14",
   "metadata": {},
   "outputs": [],
   "source": [
    "def preprocess_text(text):\n",
    "    text = text.lower()\n",
    "    text = text.translate(str.maketrans(\"\", \"\", string.punctuation))\n",
    "    tokens = nltk.word_tokenize(text)\n",
    "    tokens = [lemmatizer.lemmatize(word) for word in tokens if word not in stop_words]\n",
    "    return \" \".join(tokens)"
   ]
  },
  {
   "cell_type": "code",
   "execution_count": null,
   "id": "48c11228",
   "metadata": {},
   "outputs": [],
   "source": [
    "df[\"processed_prompt\"] = df[\"prompt\"].apply(preprocess_text)"
   ]
  },
  {
   "cell_type": "code",
   "execution_count": null,
   "id": "86b8e5e7",
   "metadata": {},
   "outputs": [],
   "source": [
    "# 4. Encoding labels\n",
    "le_cluster = LabelEncoder()\n",
    "le_sub_class = LabelEncoder()\n",
    "df[\"cluster_encoded\"] = le_cluster.fit_transform(df[\"cluster\"])\n",
    "df[\"sub_class_encoded\"] = le_sub_class.fit_transform(df[\"sub_class\"])"
   ]
  },
  {
   "cell_type": "code",
   "execution_count": null,
   "id": "b9481908",
   "metadata": {},
   "outputs": [],
   "source": [
    "# 5. Feature extraction with optimized TF-IDF\n",
    "vectorizer = TfidfVectorizer(max_features=10000, ngram_range=(1,2), min_df=2, max_df=0.9)\n",
    "X = vectorizer.fit_transform(df[\"processed_prompt\"])\n",
    "y_cluster = df[\"cluster_encoded\"]\n",
    "y_sub_class = df[\"sub_class_encoded\"]"
   ]
  },
  {
   "cell_type": "code",
   "execution_count": null,
   "id": "966ad673",
   "metadata": {},
   "outputs": [],
   "source": [
    "# 6. Split data\n",
    "X_train, X_test, y_train, y_test = train_test_split(X, y_cluster, test_size=0.2, random_state=42, stratify=y_cluster)"
   ]
  },
  {
   "cell_type": "code",
   "execution_count": null,
   "id": "47238e8d",
   "metadata": {},
   "outputs": [],
   "source": [
    "# 7. Model definitions\n",
    "models = {\n",
    "    \"Logistic Regression\": LogisticRegression(max_iter=1000, class_weight='balanced'),\n",
    "    \"SVM\": SVC(class_weight='balanced', probability=True),\n",
    "    \"Naive Bayes\": MultinomialNB(),\n",
    "    \"Random Forest\": RandomForestClassifier(n_estimators=200, class_weight='balanced', random_state=42),\n",
    "    \"XGBoost\": XGBClassifier(use_label_encoder=False, eval_metric='mlogloss')\n",
    "}"
   ]
  },
  {
   "cell_type": "code",
   "execution_count": null,
   "id": "52930a86",
   "metadata": {},
   "outputs": [],
   "source": [
    "# 8. Hyperparameter tuning for SVM\n",
    "param_grid_svm = {'C': [0.1, 1, 10], 'kernel': ['linear', 'rbf'], 'gamma': ['scale', 'auto']}\n",
    "grid_svm = GridSearchCV(SVC(class_weight='balanced', probability=True), param_grid_svm, cv=5, scoring='accuracy', n_jobs=-1)\n",
    "grid_svm.fit(X_train, y_train)"
   ]
  },
  {
   "cell_type": "code",
   "execution_count": null,
   "id": "db79882c",
   "metadata": {},
   "outputs": [],
   "source": [
    "# 9. Evaluate models\n",
    "best_model = None\n",
    "best_acc = 0"
   ]
  },
  {
   "cell_type": "code",
   "execution_count": null,
   "id": "eeb88002",
   "metadata": {},
   "outputs": [],
   "source": [
    "for name, model in models.items():\n",
    "    if name == \"SVM\":\n",
    "        model = grid_svm.best_estimator_\n",
    "    model.fit(X_train, y_train)\n",
    "    y_pred = model.predict(X_test)\n",
    "    acc = accuracy_score(y_test, y_pred)\n",
    "    f1 = f1_score(y_test, y_pred, average='weighted')\n",
    "    print(f\"{name} - Accuracy: {acc:.4f}, F1 Score: {f1:.4f}\")\n",
    "    if acc > best_acc:\n",
    "        best_acc = acc\n",
    "        best_model = model"
   ]
  },
  {
   "cell_type": "code",
   "execution_count": null,
   "id": "8e283c3b",
   "metadata": {},
   "outputs": [],
   "source": [
    "# 10. Save the best cluster model\n",
    "joblib.dump(best_model, \"cluster_best_model.pkl\")"
   ]
  },
  {
   "cell_type": "code",
   "execution_count": null,
   "id": "850a723f",
   "metadata": {},
   "outputs": [],
   "source": [
    "# 11. Subclass model (using RandomForest optimized)\n",
    "X_train, X_test, y_train, y_test = train_test_split(X, y_sub_class, test_size=0.2, random_state=42, stratify=y_sub_class)\n",
    "subclass_model = RandomForestClassifier(n_estimators=200, class_weight='balanced', random_state=42)\n",
    "subclass_model.fit(X_train, y_train)\n",
    "y_pred = subclass_model.predict(X_test)\n",
    "acc = accuracy_score(y_test, y_pred)\n",
    "print(f\"Subclass RandomForest - Accuracy: {acc:.4f}\")\n",
    "joblib.dump(subclass_model, \"subclass_best_model.pkl\")"
   ]
  },
  {
   "cell_type": "code",
   "execution_count": null,
   "id": "a6f4fb80",
   "metadata": {},
   "outputs": [],
   "source": [
    "# 12. Prediction function\n",
    "def predict_cluster_and_subclass(new_prompt):\n",
    "    processed_prompt = preprocess_text(new_prompt)\n",
    "    X_new = vectorizer.transform([processed_prompt])\n",
    "    predicted_cluster = best_model.predict(X_new)\n",
    "    predicted_sub_class = subclass_model.predict(X_new)\n",
    "    cluster_label = le_cluster.inverse_transform(predicted_cluster)\n",
    "    sub_class_label = le_sub_class.inverse_transform(predicted_sub_class)\n",
    "    return cluster_label[0], sub_class_label[0]"
   ]
  },
  {
   "cell_type": "code",
   "execution_count": null,
   "id": "c2388545",
   "metadata": {},
   "outputs": [],
   "source": [
    "# 13. Test Prediction\n",
    "print(predict_cluster_and_subclass(\"How to use OpenAI's API within Streamlit?\"))"
   ]
  }
 ],
 "metadata": {},
 "nbformat": 4,
 "nbformat_minor": 5
}