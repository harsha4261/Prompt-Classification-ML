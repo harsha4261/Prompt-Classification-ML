{
 "cells": [
  {
   "cell_type": "code",
   "execution_count": null,
   "id": "539fcf0a",
   "metadata": {},
   "outputs": [],
   "source": [
    "# 1. Import necessary libraries\n",
    "import pandas as pd\n",
    "import numpy as np\n",
    "import seaborn as sns\n",
    "from sklearn.model_selection import train_test_split, GridSearchCV, StratifiedKFold, cross_val_score\n",
    "from sklearn.feature_extraction.text import TfidfVectorizer\n",
    "from sklearn.linear_model import LogisticRegression\n",
    "from sklearn.svm import SVC\n",
    "from sklearn.naive_bayes import MultinomialNB\n",
    "from sklearn.ensemble import RandomForestClassifier\n",
    "from sklearn.metrics import accuracy_score, f1_score, confusion_matrix\n",
    "from sklearn.preprocessing import LabelEncoder\n",
    "from xgboost import XGBClassifier\n",
    "import nltk\n",
    "from nltk.corpus import stopwords\n",
    "from nltk.stem import WordNetLemmatizer\n",
    "import string\n",
    "import joblib\n",
    "import os"
   ]
  },
  {
   "cell_type": "code",
   "execution_count": null,
   "id": "003d38ce",
   "metadata": {},
   "outputs": [],
   "source": [
    "# 2. Data Preprocessing\n",
    "lemmatizer = WordNetLemmatizer()\n",
    "stop_words = set(stopwords.words(\"english\"))"
   ]
  },
  {
   "cell_type": "code",
   "execution_count": null,
   "id": "6bd073f3",
   "metadata": {},
   "outputs": [],
   "source": [
    "def preprocess_text(text):\n",
    "    text = text.lower()\n",
    "    text = text.translate(str.maketrans(\"\", \"\", string.punctuation))\n",
    "    tokens = nltk.word_tokenize(text)\n",
    "    tokens = [lemmatizer.lemmatize(word) for word in tokens if word not in stop_words]\n",
    "    return \" \".join(tokens)"
   ]
  },
  {
   "cell_type": "code",
   "execution_count": null,
   "id": "c8419ce7",
   "metadata": {},
   "outputs": [],
   "source": [
    "df = pd.read_csv(\"expanded_prompts.csv\")\n",
    "df[\"processed_prompt\"] = df[\"prompt\"].apply(preprocess_text)"
   ]
  },
  {
   "cell_type": "code",
   "execution_count": null,
   "id": "44fcb1c5",
   "metadata": {},
   "outputs": [],
   "source": [
    "# 3. Encode labels\n",
    "le_cluster = LabelEncoder()\n",
    "le_sub_class = LabelEncoder()\n",
    "df[\"cluster_encoded\"] = le_cluster.fit_transform(df[\"cluster\"])\n",
    "df[\"sub_class_encoded\"] = le_sub_class.fit_transform(df[\"sub_class\"])"
   ]
  },
  {
   "cell_type": "code",
   "execution_count": null,
   "id": "d250d4c5",
   "metadata": {},
   "outputs": [],
   "source": [
    "# 4. TF-IDF feature extraction\n",
    "vectorizer = TfidfVectorizer(max_features=10000, ngram_range=(1,2), min_df=2, max_df=0.9)\n",
    "X = vectorizer.fit_transform(df[\"processed_prompt\"])\n",
    "y_cluster = df[\"cluster_encoded\"]"
   ]
  },
  {
   "cell_type": "code",
   "execution_count": null,
   "id": "9c5e6bda",
   "metadata": {},
   "outputs": [],
   "source": [
    "# 5. Split data for cluster prediction\n",
    "X_train, X_test, y_train, y_test = train_test_split(X, y_cluster, test_size=0.2, random_state=42, stratify=y_cluster)"
   ]
  },
  {
   "cell_type": "code",
   "execution_count": null,
   "id": "5c45904b",
   "metadata": {},
   "outputs": [],
   "source": [
    "# 6. Train cluster classifier (SVM optimized)\n",
    "param_grid_svm = {'C': [0.1, 1, 10], 'kernel': ['linear', 'rbf'], 'gamma': ['scale', 'auto']}\n",
    "grid_svm = GridSearchCV(SVC(class_weight='balanced', probability=True), param_grid_svm, cv=5, scoring='accuracy', n_jobs=-1)\n",
    "grid_svm.fit(X_train, y_train)\n",
    "best_cluster_model = grid_svm.best_estimator_"
   ]
  },
  {
   "cell_type": "code",
   "execution_count": null,
   "id": "949f5835",
   "metadata": {},
   "outputs": [],
   "source": [
    "# Save cluster model\n",
    "joblib.dump(best_cluster_model, \"cluster_model.pkl\")"
   ]
  },
  {
   "cell_type": "code",
   "execution_count": null,
   "id": "c55b8407",
   "metadata": {},
   "outputs": [],
   "source": [
    "# 7. Train sub_class models per cluster\n",
    "if not os.path.exists(\"subclass_models\"):\n",
    "    os.makedirs(\"subclass_models\")"
   ]
  },
  {
   "cell_type": "code",
   "execution_count": null,
   "id": "6405b595",
   "metadata": {},
   "outputs": [],
   "source": [
    "for cluster_label in df[\"cluster_encoded\"].unique():\n",
    "    subset = df[df[\"cluster_encoded\"] == cluster_label]\n",
    "    if subset[\"sub_class_encoded\"].nunique() < 2:\n",
    "        continue  # skip clusters without at least 2 subclasses\n",
    "    X_sub = vectorizer.transform(subset[\"processed_prompt\"])\n",
    "    y_sub = subset[\"sub_class_encoded\"]\n",
    "    X_train_sub, X_test_sub, y_train_sub, y_test_sub = train_test_split(\n",
    "        X_sub, y_sub, test_size=0.2, random_state=42, stratify=y_sub\n",
    "    )\n",
    "    model = RandomForestClassifier(n_estimators=200, class_weight='balanced', random_state=42)\n",
    "    model.fit(X_train_sub, y_train_sub)\n",
    "    joblib.dump(model, f\"subclass_models/subclass_model_{cluster_label}.pkl\")"
   ]
  },
  {
   "cell_type": "code",
   "execution_count": null,
   "id": "5951480a",
   "metadata": {},
   "outputs": [],
   "source": [
    "# 8. Prediction function with hierarchical classification\n",
    "def predict_cluster_and_subclass(prompt):\n",
    "    processed_prompt = preprocess_text(prompt)\n",
    "    X_new = vectorizer.transform([processed_prompt])\n",
    "    cluster_model = joblib.load(\"cluster_model.pkl\")\n",
    "    predicted_cluster = cluster_model.predict(X_new)\n",
    "    cluster_label = le_cluster.inverse_transform(predicted_cluster)[0]"
   ]
  },
  {
   "cell_type": "code",
   "execution_count": null,
   "id": "4fecb5c0",
   "metadata": {},
   "outputs": [],
   "source": [
    "    subclass_model_path = f\"subclass_models/subclass_model_{predicted_cluster[0]}.pkl\"\n",
    "    if os.path.exists(subclass_model_path):\n",
    "        sub_model = joblib.load(subclass_model_path)\n",
    "        predicted_sub_class = sub_model.predict(X_new)\n",
    "        sub_class_label = le_sub_class.inverse_transform(predicted_sub_class)[0]\n",
    "    else:\n",
    "        sub_class_label = \"No subclass model\""
   ]
  },
  {
   "cell_type": "code",
   "execution_count": null,
   "id": "405258c0",
   "metadata": {},
   "outputs": [],
   "source": [
    "    return cluster_label, sub_class_label"
   ]
  },
  {
   "cell_type": "code",
   "execution_count": null,
   "id": "142db4e9",
   "metadata": {},
   "outputs": [],
   "source": [
    "# 9. Test Prediction\n",
    "print(predict_cluster_and_subclass(\"How to use OpenAI's API within Streamlit?\"))"
   ]
  }
 ],
 "metadata": {},
 "nbformat": 4,
 "nbformat_minor": 5
}